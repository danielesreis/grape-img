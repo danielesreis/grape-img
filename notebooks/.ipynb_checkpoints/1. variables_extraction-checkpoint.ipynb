{
 "cells": [
  {
   "cell_type": "code",
   "execution_count": 10,
   "metadata": {},
   "outputs": [],
   "source": [
    "import os\n",
    "import sys\n",
    "import pandas as pd\n",
    "import numpy as np\n",
    "import cv2\n",
    "\n",
    "sys.path.append(os.getcwd() + '/..')\n",
    "sys.path.append(os.getcwd() + '/../../mng/scripts')\n",
    "\n",
    "import constants\n",
    "from MNGFeaturesMeans import MNGFeaturesMeans\n",
    "from MNGFeaturesFractal import MNGFeaturesFractal"
   ]
  },
  {
   "cell_type": "code",
   "execution_count": 5,
   "metadata": {},
   "outputs": [],
   "source": [
    "folders_path = os.getcwd() + '/../data/imgs/'\n",
    "folders = os.listdir(folders_path)"
   ]
  },
  {
   "cell_type": "code",
   "execution_count": 8,
   "metadata": {},
   "outputs": [],
   "source": [
    "means = MNGFeaturesMeans()\n",
    "fractals = MNGFeaturesFractal()"
   ]
  },
  {
   "cell_type": "code",
   "execution_count": null,
   "metadata": {},
   "outputs": [],
   "source": [
    "final = pd.DataFrame(columns=constants.VARIABLES)\n",
    "\n",
    "for folder in folders:\n",
    "    imgs = os.listdir(folders_path + folder)\n",
    "    \n",
    "    for img_name in imgs:\n",
    "        BGR_img = cv2.imread(folders_path + folder + '/' + img_name)\n",
    "        gray_img = cv2.cvtColor(BGR_img, cv2.COLOR_BGR2GRAY)\n",
    "\n",
    "        RGB_img = BGR_img[:,:,::-1]\n",
    "        HSV_img = cv2.cvtColor(RGB_img, cv2.COLOR_RGB2HSV)\n",
    "        Lab_img = cv2.cvtColor(RGB_img, cv2.COLOR_RGB2Lab)\n",
    "        \n",
    "        means_RGB = means.channels_mean(RGB_img)\n",
    "        means_HSV = means.channels_mean(HSV_img)\n",
    "        means_Lab = means.channels_mean(Lab_img)\n",
    "        \n",
    "        bcd = fractals.box_counting_dimension(gray_img)\n",
    "        cd = fractals.correlation_dimension(gray_img)\n",
    "        dd = fractals.dilation_dimension(gray_img)\n",
    "        \n",
    "        vars_values = pd.Series(data=np.concatenate(means_RGB, means_HSV, means_Lab, bcd, cd, dd), axis=None \\\n",
    "                               name=img_name, index=concants.VARIABLES)\n",
    "        \n",
    "        final = final.append(vars_values)\n",
    "\n",
    "final.to_csv(os.getcwd() + '/../data/final/cabernet_vars.csv')"
   ]
  }
 ],
 "metadata": {
  "kernelspec": {
   "display_name": "Python 3",
   "language": "python",
   "name": "python3"
  },
  "language_info": {
   "codemirror_mode": {
    "name": "ipython",
    "version": 3
   },
   "file_extension": ".py",
   "mimetype": "text/x-python",
   "name": "python",
   "nbconvert_exporter": "python",
   "pygments_lexer": "ipython3",
   "version": "3.6.7"
  }
 },
 "nbformat": 4,
 "nbformat_minor": 2
}
