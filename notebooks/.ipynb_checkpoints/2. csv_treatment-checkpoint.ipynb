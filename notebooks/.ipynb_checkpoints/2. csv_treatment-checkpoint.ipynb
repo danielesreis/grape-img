{
 "cells": [
  {
   "cell_type": "code",
   "execution_count": 31,
   "metadata": {},
   "outputs": [],
   "source": [
    "import os\n",
    "import sys\n",
    "import pandas as pd\n",
    "\n",
    "sys.path.append(os.getcwd() + '/..')\n",
    "\n",
    "import constants"
   ]
  },
  {
   "cell_type": "code",
   "execution_count": 34,
   "metadata": {},
   "outputs": [],
   "source": [
    "atts_path = os.getcwd() + '../data/attributes/'\n",
    "vars_path = os.getcwd() + '../data/variables/'"
   ]
  },
  {
   "cell_type": "code",
   "execution_count": null,
   "metadata": {},
   "outputs": [],
   "source": [
    "vars_df = pd.read_csv(vars_path + 'cabernet_vars.csv')\n",
    "\n",
    "for att in constants.ATTRIBUTES:\n",
    "    quality_df = pd.read_csv(atts_path + 'cabernet_%s.csv' % att)\n",
    "    vars_df.insert(loc=1, column=att, value=quality_df)\n",
    "    vars_df.to_csv(constants.FINAL_DATA_PATH + 'cabernet_%s_final.csv' % att)"
   ]
  }
 ],
 "metadata": {
  "kernelspec": {
   "display_name": "Python 3",
   "language": "python",
   "name": "python3"
  },
  "language_info": {
   "codemirror_mode": {
    "name": "ipython",
    "version": 3
   },
   "file_extension": ".py",
   "mimetype": "text/x-python",
   "name": "python",
   "nbconvert_exporter": "python",
   "pygments_lexer": "ipython3",
   "version": "3.6.7"
  }
 },
 "nbformat": 4,
 "nbformat_minor": 2
}
